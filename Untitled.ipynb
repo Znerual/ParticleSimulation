{
 "cells": [
  {
   "cell_type": "code",
   "execution_count": 105,
   "id": "79b6c97e",
   "metadata": {},
   "outputs": [],
   "source": [
    "def func(*args, **kwargs):\n",
    "    keywords = kwargs.keys()\n",
    "    print(len(keywords))\n",
    "    for el in zip(*args, *kwargs.values()):\n",
    "        #print(dict(zip(keywords, el)))\n",
    "        func2(*el[:-len(keywords)], **dict(zip(keywords, el[:len(keywords)])))\n",
    "def func2(*args, **kwargs):\n",
    "    print(args, kwargs)\n",
    "    \n",
    "def wrapper(*args, **kwargs):\n",
    "    for parameter in zip(*args):\n",
    "        func2(*parameter, **kwargs)\n",
    "\n",
    "    \n",
    "\n",
    "\n",
    "    "
   ]
  },
  {
   "cell_type": "code",
   "execution_count": null,
   "id": "2eeb6696",
   "metadata": {},
   "outputs": [],
   "source": []
  },
  {
   "cell_type": "code",
   "execution_count": 106,
   "id": "2beebdb0",
   "metadata": {},
   "outputs": [
    {
     "name": "stdout",
     "output_type": "stream",
     "text": [
      "(1,) {'t': [1, 2, 3], 'e': [2, 3, 4]}\n",
      "(2,) {'t': [1, 2, 3], 'e': [2, 3, 4]}\n",
      "(3,) {'t': [1, 2, 3], 'e': [2, 3, 4]}\n"
     ]
    }
   ],
   "source": [
    "wrapper([1,2,3],**dd)"
   ]
  },
  {
   "cell_type": "code",
   "execution_count": 101,
   "id": "e7f06ac6",
   "metadata": {},
   "outputs": [
    {
     "name": "stdout",
     "output_type": "stream",
     "text": [
      "2\n",
      "(1, 3) {'t': 1, 'e': 3}\n",
      "(2, 21) {'t': 2, 'e': 21}\n",
      "(3, 1) {'t': 3, 'e': 1}\n"
     ]
    }
   ],
   "source": [
    "dd = {\"t\": [1,2,3], \"e\" : [2,3,4]}\n",
    "func([1,2,3],[3,21,1], **dd)"
   ]
  },
  {
   "cell_type": "code",
   "execution_count": 102,
   "id": "253b863c",
   "metadata": {},
   "outputs": [
    {
     "name": "stdout",
     "output_type": "stream",
     "text": [
      "2\n",
      "() {'t': 1, 'e': 2}\n",
      "() {'t': 2, 'e': 3}\n",
      "() {'t': 3, 'e': 4}\n"
     ]
    }
   ],
   "source": [
    "func(**dd)"
   ]
  },
  {
   "cell_type": "code",
   "execution_count": null,
   "id": "25096fea",
   "metadata": {},
   "outputs": [],
   "source": []
  }
 ],
 "metadata": {
  "kernelspec": {
   "display_name": "Python 3 (ipykernel)",
   "language": "python",
   "name": "python3"
  },
  "language_info": {
   "codemirror_mode": {
    "name": "ipython",
    "version": 3
   },
   "file_extension": ".py",
   "mimetype": "text/x-python",
   "name": "python",
   "nbconvert_exporter": "python",
   "pygments_lexer": "ipython3",
   "version": "3.10.2"
  },
  "toc": {
   "base_numbering": 1,
   "nav_menu": {},
   "number_sections": true,
   "sideBar": true,
   "skip_h1_title": false,
   "title_cell": "Table of Contents",
   "title_sidebar": "Contents",
   "toc_cell": false,
   "toc_position": {},
   "toc_section_display": true,
   "toc_window_display": false
  }
 },
 "nbformat": 4,
 "nbformat_minor": 5
}
